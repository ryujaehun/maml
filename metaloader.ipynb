{
 "cells": [
  {
   "cell_type": "code",
   "execution_count": 1,
   "metadata": {},
   "outputs": [
    {
     "name": "stdout",
     "output_type": "stream",
     "text": [
      "Using matplotlib backend: agg\n",
      "Populating the interactive namespace from numpy and matplotlib\n"
     ]
    }
   ],
   "source": [
    "import torch\n",
    "import torch.nn as nn\n",
    "import os,glob\n",
    "import numpy as np\n",
    "%pylab\n",
    "import seaborn as sns\n",
    "%matplotlib inline\n",
    "from torch.utils.data import Dataset"
   ]
  },
  {
   "cell_type": "code",
   "execution_count": 24,
   "metadata": {},
   "outputs": [],
   "source": [
    "path = [i for i in glob.glob('dataset/*/*/*') if os.path.isdir(i)]\n",
    "cost_path = list(map(lambda x: os.path.join(x, 'cost.npy'), path))\n",
    "curve_path = list(map(lambda x: os.path.join(x, 'curve.npy'), path))\n",
    "_curve = []\n",
    "for curve in curve_path:\n",
    "    _curve.append(np.load(curve)[:, :720])\n",
    "_cost = []\n",
    "for cost in cost_path:\n",
    "    np_cost = np.load(cost)\n",
    "    _cost.append(np_cost)"
   ]
  },
  {
   "cell_type": "code",
   "execution_count": 28,
   "metadata": {},
   "outputs": [
    {
     "data": {
      "text/plain": [
       "214"
      ]
     },
     "execution_count": 28,
     "metadata": {},
     "output_type": "execute_result"
    }
   ],
   "source": [
    "len(_cost)"
   ]
  },
  {
   "cell_type": "code",
   "execution_count": 30,
   "metadata": {},
   "outputs": [],
   "source": [
    "ways = np.random.randint(0, len(_cost), 5)\n",
    "candidate_cost = np.take(_cost, 5)\n",
    "candidate_curve = np.take(_curve, 5)\n"
   ]
  },
  {
   "cell_type": "code",
   "execution_count": 32,
   "metadata": {},
   "outputs": [
    {
     "data": {
      "text/plain": [
       "array([208,  72,  80, 157,  20])"
      ]
     },
     "execution_count": 32,
     "metadata": {},
     "output_type": "execute_result"
    }
   ],
   "source": [
    "ways"
   ]
  },
  {
   "cell_type": "code",
   "execution_count": null,
   "metadata": {},
   "outputs": [],
   "source": [
    "class TaskDataset(Dataset):\n",
    "    def __init__(self, ways=5, shot=5, test_shot=5, size=10000000, transform=None):\n",
    "        self.size = size\n",
    "        self.shot = shot\n",
    "        self.ways = ways\n",
    "        self.test_shot = test_shot\n",
    "        self.transform=transform\n",
    "        path = [i for i in glob.glob('dataset/*/*/*') if os.path.isdir(i)]\n",
    "        self.cost_path = list(map(lambda x: os.path.join(x, 'cost.npy'), path))\n",
    "        self.curve_path = list(map(lambda x: os.path.join(x, 'curve.npy'), path))\n",
    "        self._curve = []\n",
    "        for curve in self.curve_path:\n",
    "            self._curve.append(np.load(curve)[:, :720])\n",
    "        self._cost = []\n",
    "        for cost in self.cost_path:\n",
    "            np_cost = np.load(cost)\n",
    "            self._cost.append(np_cost)\n",
    "    def __len__(self):\n",
    "        return 149891 * self.shot\n",
    "\n",
    "    def __getitem__(self, idx):\n",
    "        batch = dict()\n",
    "        flag = True\n",
    "        while flag:\n",
    "            ways = np.random.randint(0, len(self._cost), self.ways)\n",
    "            candidate_cost = np.take(self._cost, ways)\n",
    "            candidate_curve = np.take(self._curve, ways)\n",
    "\n",
    "            if min(map(lambda x: len(x), candidate_cost)) > max(self.shot, self.test_shot):\n",
    "                flag = False\n",
    "                # shot 크기 보다 작은 way를 선택하지 않음\n",
    "            train_data = []\n",
    "            train_label = []\n",
    "\n",
    "            test_data = []\n",
    "            test_label = []\n",
    "\n",
    "            for curve, cost in zip(candidate_curve, candidate_cost):\n",
    "                # shot 에 맞춰서 배치에 넣음\n",
    "                train_shots = np.random.randint(0, len(curve), self.shot)\n",
    "                train_data.append(np.take(curve, train_shots, axis=0))\n",
    "                train_label.append(np.take(cost, train_shots, axis=0))\n",
    "\n",
    "                test_shots = np.random.randint(0, len(curve), self.test_shot)\n",
    "                test_data.append(np.take(curve, test_shots, axis=0))\n",
    "                test_label.append(np.take(cost, test_shots, axis=0))\n",
    "            \n",
    "            train_data = torch.tensor(np.stack(train_data), dtype=torch.float32)\n",
    "            test_data = torch.tensor(np.stack(test_data), dtype=torch.float32)\n",
    "           \n",
    "            test_label = torch.tensor(test_label, dtype=torch.float32)/1e-8\n",
    "           \n",
    "\n",
    "            batch['train'] = (train_data, train_label)\n",
    "            batch['test'] = (test_data, test_label)\n",
    "        return batch"
   ]
  },
  {
   "cell_type": "code",
   "execution_count": null,
   "metadata": {},
   "outputs": [],
   "source": [
    "dataset=KnobsDataset()"
   ]
  },
  {
   "cell_type": "code",
   "execution_count": null,
   "metadata": {},
   "outputs": [],
   "source": [
    "X_train, X_test, y_train, y_test = train_test_split(dataset._data, dataset._label, test_size=0.33, random_state=42)"
   ]
  },
  {
   "cell_type": "code",
   "execution_count": null,
   "metadata": {},
   "outputs": [],
   "source": [
    "_cost=[]\n",
    "for cost in cost_path:\n",
    "    _cost.extend(np.load(cost).tolist())\n",
    "sns.distplot(_cost)"
   ]
  },
  {
   "cell_type": "code",
   "execution_count": null,
   "metadata": {},
   "outputs": [],
   "source": [
    "_curve=[]\n",
    "for curve in curve_path:\n",
    "    _curve.append(np.load(curve)[:,:720])\n",
    "_cost=[]\n",
    "for cost in cost_path:\n",
    "    np_cost=np.load(cost)\n",
    "    scalar=MinMaxScaler()\n",
    "    np_cost=scalar.fit_transform(np_cost.reshape(-1,1)).squeeze()\n",
    "    _cost.append(np_cost)\n"
   ]
  },
  {
   "cell_type": "code",
   "execution_count": null,
   "metadata": {},
   "outputs": [],
   "source": [
    "_cost"
   ]
  },
  {
   "cell_type": "code",
   "execution_count": null,
   "metadata": {},
   "outputs": [],
   "source": [
    "shot=3\n",
    "way=4\n",
    "flag=True\n",
    "\n",
    "while flag:\n",
    "    ways=np.random.randint(0,len(_cost),way)\n",
    "    candidate_cost=np.take(_cost,ways)\n",
    "    candidate_curve=np.take(_curve,ways)\n",
    "    if min(map(lambda x:len(x),candidate_cost))>shot:\n",
    "        flag=False\n",
    "    _data=[]\n",
    "    _label=[]\n",
    "    for curve,cost in zip(candidate_curve,candidate_cost):\n",
    "        shots=np.random.randint(0,len(curve),shot)\n",
    "        _data.append(np.take(curve,shots,axis=0))\n",
    "        _label.append(np.take(cost,shots,axis=0))\n",
    "    _data=np.stack(_data)\n",
    "    _label=np.stack(_label)\n",
    "#         break\n",
    "    \n"
   ]
  },
  {
   "cell_type": "code",
   "execution_count": null,
   "metadata": {},
   "outputs": [],
   "source": [
    "shots=np.random.randint(0,len(curve),shot)\n",
    "np.take(curve,shots,axis=0).shape"
   ]
  },
  {
   "cell_type": "code",
   "execution_count": null,
   "metadata": {},
   "outputs": [],
   "source": [
    "np.vstack(_data).shape"
   ]
  },
  {
   "cell_type": "code",
   "execution_count": null,
   "metadata": {},
   "outputs": [],
   "source": [
    "_data"
   ]
  },
  {
   "cell_type": "code",
   "execution_count": null,
   "metadata": {},
   "outputs": [],
   "source": [
    "temp=np.take(_cost,[0,1,2])"
   ]
  },
  {
   "cell_type": "code",
   "execution_count": null,
   "metadata": {},
   "outputs": [],
   "source": [
    "len(temp[0])\n",
    "min(map(lambda x:len(x),temp))"
   ]
  },
  {
   "cell_type": "code",
   "execution_count": null,
   "metadata": {},
   "outputs": [],
   "source": [
    "candidate_cost"
   ]
  },
  {
   "cell_type": "code",
   "execution_count": null,
   "metadata": {},
   "outputs": [],
   "source": [
    "min(map(lambda x:len(x),candidate_cost))"
   ]
  },
  {
   "cell_type": "code",
   "execution_count": null,
   "metadata": {},
   "outputs": [],
   "source": [
    "import os,glob"
   ]
  },
  {
   "cell_type": "code",
   "execution_count": null,
   "metadata": {},
   "outputs": [],
   "source": [
    "path = [i for i in glob.glob('dataset/*/*/*') if os.path.isdir(i)]"
   ]
  },
  {
   "cell_type": "code",
   "execution_count": null,
   "metadata": {},
   "outputs": [],
   "source": [
    "cost_path = list(map(lambda x: os.path.join(x, 'cost.npy'), path))\n",
    "curve_path = list(map(lambda x: os.path.join(x, 'curve.npy'), path))\n",
    "_curve = []\n",
    "for curve in curve_path:\n",
    "    _curve.append(np.load(curve)[:, :720])\n",
    "_cost = []\n",
    "for cost in cost_path:\n",
    "    np_cost = np.load(cost)\n",
    "    _cost.append(np_cost)"
   ]
  },
  {
   "cell_type": "code",
   "execution_count": null,
   "metadata": {},
   "outputs": [],
   "source": [
    "flag = True\n",
    "while flag:\n",
    "    ways = np.random.randint(0, len(_cost), 5)\n",
    "    candidate_cost = np.take(_cost, ways)\n",
    "    candidate_curve = np.take(_curve, ways)\n",
    "\n",
    "    if min(map(lambda x: len(x), candidate_cost)) > max(3, 3):\n",
    "        flag = False\n",
    "        # shot 크기 보다 작은 way를 선택하지 않음\n",
    "    train_data = []\n",
    "    train_label = []\n",
    "\n",
    "    test_data = []\n",
    "    test_label = []\n",
    "\n",
    "    for curve, cost in zip(candidate_curve, candidate_cost):\n",
    "        # shot 에 맞춰서 배치에 넣음\n",
    "        train_shots = np.random.randint(0, len(curve), 3)\n",
    "        train_data.append(np.take(curve, train_shots, axis=0))\n",
    "        train_label.append(np.take(cost, train_shots, axis=0))\n",
    "\n",
    "        test_shots = np.random.randint(0, len(curve), 3)\n",
    "        test_data.append(np.take(curve, test_shots, axis=0))\n",
    "        test_label.append(np.take(cost, test_shots, axis=0))\n",
    "\n",
    "#     train_data = torch.tensor(np.stack(train_data), dtype=torch.float32)\n",
    "#     train_label = torch.tensor(np.stack(train_label), dtype=torch.float32)\n",
    "\n",
    "#     test_data = torch.tensor(np.stack(test_data), dtype=torch.float32)\n",
    "#     test_label = torch.tensor(np.stack(test_label), dtype=torch.float32)"
   ]
  },
  {
   "cell_type": "code",
   "execution_count": null,
   "metadata": {},
   "outputs": [],
   "source": [
    "np.stack(train_label).shape"
   ]
  },
  {
   "cell_type": "code",
   "execution_count": null,
   "metadata": {},
   "outputs": [],
   "source": [
    "np.stack(train_label)"
   ]
  },
  {
   "cell_type": "code",
   "execution_count": null,
   "metadata": {},
   "outputs": [],
   "source": [
    "t."
   ]
  },
  {
   "cell_type": "code",
   "execution_count": null,
   "metadata": {},
   "outputs": [],
   "source": [
    "from sklearn import preprocessing\n",
    "_scaler=preprocessing.Normalizer()\n",
    "_scaler.fit_transform(np.stack(train_label).T).T"
   ]
  },
  {
   "cell_type": "code",
   "execution_count": null,
   "metadata": {},
   "outputs": [],
   "source": [
    "_scaler=preprocessing.RobustScaler()\n",
    "_scaler.fit_transform(np.stack(train_label))"
   ]
  },
  {
   "cell_type": "code",
   "execution_count": null,
   "metadata": {},
   "outputs": [],
   "source": [
    "train_label.shape"
   ]
  },
  {
   "cell_type": "code",
   "execution_count": 42,
   "metadata": {},
   "outputs": [
    {
     "name": "stdout",
     "output_type": "stream",
     "text": [
      "Train inputs shape: torch.Size([1, 8, 1, 28, 28])\n",
      "Train targets shape: torch.Size([1, 8])\n",
      "Test inputs shape: torch.Size([1, 60, 1, 28, 28])\n",
      "Test targets shape: torch.Size([1, 60])\n"
     ]
    }
   ],
   "source": [
    "from torchmeta.datasets.helpers import omniglot\n",
    "from torchmeta.utils.data import BatchMetaDataLoader\n",
    "\n",
    "dataset = omniglot(\"data\", ways=4, shots=2, test_shots=15, meta_train=True, download=True)\n",
    "dataloader = BatchMetaDataLoader(dataset, batch_size=1, num_workers=4)\n",
    "\n",
    "for batch in dataloader:\n",
    "    train_inputs, train_targets = batch[\"train\"]\n",
    "    print('Train inputs shape: {0}'.format(train_inputs.shape))    # (16, 25, 1, 28, 28)\n",
    "    print('Train targets shape: {0}'.format(train_targets.shape))  # (16, 25)\n",
    "    \n",
    "    test_inputs, test_targets = batch[\"test\"]\n",
    "    print('Test inputs shape: {0}'.format(test_inputs.shape))      # (16, 75, 1, 28, 28)\n",
    "    print('Test targets shape: {0}'.format(test_targets.shape))    # (16, 75)\n",
    "    break"
   ]
  },
  {
   "cell_type": "code",
   "execution_count": 37,
   "metadata": {},
   "outputs": [
    {
     "data": {
      "text/plain": [
       "tensor([[2, 2, 3, 3, 1, 1, 0, 0],\n",
       "        [0, 0, 3, 3, 2, 2, 1, 1],\n",
       "        [2, 2, 1, 1, 0, 0, 3, 3],\n",
       "        [2, 2, 0, 0, 3, 3, 1, 1],\n",
       "        [0, 0, 3, 3, 2, 2, 1, 1],\n",
       "        [0, 0, 1, 1, 2, 2, 3, 3],\n",
       "        [0, 0, 3, 3, 1, 1, 2, 2],\n",
       "        [0, 0, 1, 1, 2, 2, 3, 3],\n",
       "        [0, 0, 2, 2, 1, 1, 3, 3],\n",
       "        [0, 0, 1, 1, 3, 3, 2, 2],\n",
       "        [0, 0, 1, 1, 3, 3, 2, 2],\n",
       "        [0, 0, 3, 3, 2, 2, 1, 1],\n",
       "        [3, 3, 0, 0, 2, 2, 1, 1],\n",
       "        [3, 3, 1, 1, 2, 2, 0, 0],\n",
       "        [0, 0, 1, 1, 2, 2, 3, 3],\n",
       "        [1, 1, 0, 0, 3, 3, 2, 2]])"
      ]
     },
     "execution_count": 37,
     "metadata": {},
     "output_type": "execute_result"
    }
   ],
   "source": [
    "train_targets"
   ]
  },
  {
   "cell_type": "code",
   "execution_count": 49,
   "metadata": {},
   "outputs": [
    {
     "data": {
      "image/png": "[encoded data removed]",
      "text/plain": [
       "<PIL.Image.Image image mode=L size=28x28 at 0x7F1D68B8FC50>"
      ]
     },
     "execution_count": 49,
     "metadata": {},
     "output_type": "execute_result"
    }
   ],
   "source": [
    "import torchvision.models as models\n",
    "import torchvision.transforms as transforms\n",
    "import torch.nn as nn\n",
    "import torch\n",
    "\n",
    "import matplotlib\n",
    "matplotlib.use('Agg')\n",
    "import matplotlib.pyplot as plt\n",
    "%matplotlib inline\n",
    "pilTrans = transforms.ToPILImage()\n",
    "pilTrans(train_inputs[0][0])\n"
   ]
  },
  {
   "cell_type": "code",
   "execution_count": 50,
   "metadata": {},
   "outputs": [
    {
     "data": {
      "image/png": "[encoded data removed]",
      "text/plain": [
       "<PIL.Image.Image image mode=L size=28x28 at 0x7F1D68B81E80>"
      ]
     },
     "execution_count": 50,
     "metadata": {},
     "output_type": "execute_result"
    }
   ],
   "source": [
    "pilTrans(train_inputs[0][1])"
   ]
  },
  {
   "cell_type": "code",
   "execution_count": 51,
   "metadata": {},
   "outputs": [
    {
     "data": {
      "image/png": "[encoded data removed]",
      "text/plain": [
       "<PIL.Image.Image image mode=L size=28x28 at 0x7F1D68B819E8>"
      ]
     },
     "execution_count": 51,
     "metadata": {},
     "output_type": "execute_result"
    }
   ],
   "source": [
    "pilTrans(train_inputs[0][2])"
   ]
  },
  {
   "cell_type": "code",
   "execution_count": null,
   "metadata": {},
   "outputs": [],
   "source": []
  }
 ],
 "metadata": {
  "kernelspec": {
   "display_name": "Python 3.6.9 64-bit",
   "language": "python",
   "name": "python36964bitcb6b86e986554a68a6d2a7445b7dab81"
  },
  "language_info": {
   "codemirror_mode": {
    "name": "ipython",
    "version": 3
   },
   "file_extension": ".py",
   "mimetype": "text/x-python",
   "name": "python",
   "nbconvert_exporter": "python",
   "pygments_lexer": "ipython3",
   "version": "3.6.9"
  }
 },
 "nbformat": 4,
 "nbformat_minor": 4
}
