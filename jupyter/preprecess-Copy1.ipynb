{
 "cells": [
  {
   "cell_type": "code",
   "execution_count": 2,
   "metadata": {},
   "outputs": [
    {
     "name": "stdout",
     "output_type": "stream",
     "text": [
      "Using matplotlib backend: TkAgg\n",
      "Populating the interactive namespace from numpy and matplotlib\n"
     ]
    }
   ],
   "source": [
    "import tvm\n",
    "import pandas as pd\n",
    "%pylab\n",
    "df=pd.read_pickle('data/result1.pkl',compression='gzip')\n",
    "df['targets']=df['targets'].apply(str)"
   ]
  },
  {
   "cell_type": "code",
   "execution_count": 3,
   "metadata": {},
   "outputs": [
    {
     "data": {
      "text/plain": [
       "0      llvm -mcpu=core-avx2\n",
       "1      llvm -mcpu=core-avx2\n",
       "2      llvm -mcpu=core-avx2\n",
       "3      llvm -mcpu=core-avx2\n",
       "4      llvm -mcpu=core-avx2\n",
       "               ...         \n",
       "595     cuda -model=unknown\n",
       "596     cuda -model=unknown\n",
       "597     cuda -model=unknown\n",
       "598     cuda -model=unknown\n",
       "599     cuda -model=unknown\n",
       "Name: targets, Length: 600, dtype: object"
      ]
     },
     "execution_count": 3,
     "metadata": {},
     "output_type": "execute_result"
    }
   ],
   "source": [
    "df['targets']"
   ]
  },
  {
   "cell_type": "code",
   "execution_count": 4,
   "metadata": {},
   "outputs": [
    {
     "name": "stderr",
     "output_type": "stream",
     "text": [
      "/home/jaehun/workspace/pytorch-maml/env/lib/python3.6/site-packages/ipykernel_launcher.py:5: SettingWithCopyWarning: \n",
      "A value is trying to be set on a copy of a slice from a DataFrame.\n",
      "Try using .loc[row_indexer,col_indexer] = value instead\n",
      "\n",
      "See the caveats in the documentation: https://pandas.pydata.org/pandas-docs/stable/user_guide/indexing.html#returning-a-view-versus-a-copy\n",
      "  \"\"\"\n"
     ]
    }
   ],
   "source": [
    "_dataset=[]\n",
    "num=0\n",
    "for idx,value in df[df['targets']=='cuda -model=unknown'].groupby(['weights','strides','paddings']):\n",
    "#     print(idx)\n",
    "    value['idx']=num\n",
    "    num+=1\n",
    "    _dataset.append(value[['idx','vectors','cost']].values)\n",
    "    \n",
    "    \n",
    "\n"
   ]
  },
  {
   "cell_type": "code",
   "execution_count": 5,
   "metadata": {},
   "outputs": [],
   "source": [
    "dataset=np.concatenate(_dataset)"
   ]
  },
  {
   "cell_type": "code",
   "execution_count": 6,
   "metadata": {},
   "outputs": [
    {
     "data": {
      "text/plain": [
       "(360, 3)"
      ]
     },
     "execution_count": 6,
     "metadata": {},
     "output_type": "execute_result"
    }
   ],
   "source": [
    "dataset.shape"
   ]
  },
  {
   "cell_type": "code",
   "execution_count": 7,
   "metadata": {},
   "outputs": [
    {
     "data": {
      "text/plain": [
       "(482,)"
      ]
     },
     "execution_count": 7,
     "metadata": {},
     "output_type": "execute_result"
    }
   ],
   "source": [
    "dataset[:,1][0].shape\n"
   ]
  },
  {
   "cell_type": "code",
   "execution_count": 8,
   "metadata": {},
   "outputs": [
    {
     "name": "stdout",
     "output_type": "stream",
     "text": [
      "Train inputs shape: torch.Size([16, 25, 1, 28, 28])\n",
      "Train targets shape: torch.Size([16, 25])\n",
      "Test inputs shape: torch.Size([16, 75, 1, 28, 28])\n",
      "Test targets shape: torch.Size([16, 75])\n"
     ]
    }
   ],
   "source": [
    "from torchmeta.datasets.helpers import omniglot\n",
    "from torchmeta.utils.data import BatchMetaDataLoader\n",
    "\n",
    "dataset = omniglot(\"data\", ways=5, shots=5, test_shots=15, meta_train=True, download=True)\n",
    "dataloader = BatchMetaDataLoader(dataset, batch_size=16, num_workers=4)\n",
    "_train=[]\n",
    "for batch in dataloader:\n",
    "    train_inputs, train_targets = batch[\"train\"]\n",
    "    print('Train inputs shape: {0}'.format(train_inputs.shape))    # (16, 25, 1, 28, 28)\n",
    "    print('Train targets shape: {0}'.format(train_targets.shape))  # (16, 25)\n",
    "    _train.extend(train_targets.numpy().tolist())\n",
    "    test_inputs, test_targets = batch[\"test\"]\n",
    "    print('Test inputs shape: {0}'.format(test_inputs.shape))      # (16, 75, 1, 28, 28)\n",
    "    print('Test targets shape: {0}'.format(test_targets.shape))    # (16, 75)\n",
    "    break"
   ]
  },
  {
   "cell_type": "code",
   "execution_count": 9,
   "metadata": {},
   "outputs": [],
   "source": [
    "dataset = omniglot(\"data\", ways=5, shots=5, test_shots=5, meta_train=True, download=True)\n"
   ]
  },
  {
   "cell_type": "code",
   "execution_count": 10,
   "metadata": {},
   "outputs": [],
   "source": [
    "dataset = omniglot(\"data\", ways=5, shots=5, test_shots=15, meta_train=True, download=True)\n"
   ]
  },
  {
   "cell_type": "code",
   "execution_count": 11,
   "metadata": {},
   "outputs": [
    {
     "data": {
      "text/plain": [
       "<torchmeta.datasets.omniglot.Omniglot at 0x7f93ed2bcd30>"
      ]
     },
     "execution_count": 11,
     "metadata": {},
     "output_type": "execute_result"
    }
   ],
   "source": [
    "dataset"
   ]
  },
  {
   "cell_type": "code",
   "execution_count": 12,
   "metadata": {},
   "outputs": [
    {
     "data": {
      "text/plain": [
       "16"
      ]
     },
     "execution_count": 12,
     "metadata": {},
     "output_type": "execute_result"
    }
   ],
   "source": [
    "len(_train)"
   ]
  },
  {
   "cell_type": "code",
   "execution_count": 13,
   "metadata": {},
   "outputs": [
    {
     "data": {
      "text/plain": [
       "16"
      ]
     },
     "execution_count": 13,
     "metadata": {},
     "output_type": "execute_result"
    }
   ],
   "source": [
    "len(set(list(map(str,_train))))"
   ]
  },
  {
   "cell_type": "code",
   "execution_count": 1,
   "metadata": {},
   "outputs": [],
   "source": [
    "import pandas as pd\n",
    "df=pd.read_pickle('data/result1.pkl',compression='gzip')\n",
    "df['targets']=df['targets'].apply(str)"
   ]
  },
  {
   "cell_type": "code",
   "execution_count": 2,
   "metadata": {},
   "outputs": [
    {
     "data": {
      "text/html": [
       "<div>\n",
       "<style scoped>\n",
       "    .dataframe tbody tr th:only-of-type {\n",
       "        vertical-align: middle;\n",
       "    }\n",
       "\n",
       "    .dataframe tbody tr th {\n",
       "        vertical-align: top;\n",
       "    }\n",
       "\n",
       "    .dataframe thead th {\n",
       "        text-align: right;\n",
       "    }\n",
       "</style>\n",
       "<table border=\"1\" class=\"dataframe\">\n",
       "  <thead>\n",
       "    <tr style=\"text-align: right;\">\n",
       "      <th></th>\n",
       "      <th>names</th>\n",
       "      <th>knobs</th>\n",
       "      <th>weights</th>\n",
       "      <th>strides</th>\n",
       "      <th>paddings</th>\n",
       "      <th>indexs</th>\n",
       "      <th>targets</th>\n",
       "      <th>networks</th>\n",
       "      <th>vectors</th>\n",
       "      <th>cost</th>\n",
       "    </tr>\n",
       "  </thead>\n",
       "  <tbody>\n",
       "    <tr>\n",
       "      <th>0</th>\n",
       "      <td>topi_x86_conv2d_NCHWc</td>\n",
       "      <td>tile_ic-tile_oc-tile_ow-unroll_kw</td>\n",
       "      <td>(64, 3, 7, 7)</td>\n",
       "      <td>(2, 2)</td>\n",
       "      <td>(3, 3, 3, 3)</td>\n",
       "      <td>217</td>\n",
       "      <td>llvm -mcpu=core-avx2</td>\n",
       "      <td>resnet-18</td>\n",
       "      <td>[0.0, 0.0, 0.0, 1.0, 0.0, 2.0, 0.0, 0.0, 0.0, ...</td>\n",
       "      <td>Traceback (most recent call last):\\n  [bt] (3)...</td>\n",
       "    </tr>\n",
       "    <tr>\n",
       "      <th>1</th>\n",
       "      <td>topi_x86_conv2d_NCHWc</td>\n",
       "      <td>tile_ic-tile_oc-tile_ow-unroll_kw</td>\n",
       "      <td>(64, 3, 7, 7)</td>\n",
       "      <td>(2, 2)</td>\n",
       "      <td>(3, 3, 3, 3)</td>\n",
       "      <td>238</td>\n",
       "      <td>llvm -mcpu=core-avx2</td>\n",
       "      <td>resnet-18</td>\n",
       "      <td>[0.0, 0.0, 0.0, 1.0, 0.0, 2.0, 0.0, 3.0, 0.0, ...</td>\n",
       "      <td>Traceback (most recent call last):\\n  [bt] (3)...</td>\n",
       "    </tr>\n",
       "    <tr>\n",
       "      <th>2</th>\n",
       "      <td>topi_x86_conv2d_NCHWc</td>\n",
       "      <td>tile_ic-tile_oc-tile_ow-unroll_kw</td>\n",
       "      <td>(64, 3, 7, 7)</td>\n",
       "      <td>(2, 2)</td>\n",
       "      <td>(3, 3, 3, 3)</td>\n",
       "      <td>14</td>\n",
       "      <td>llvm -mcpu=core-avx2</td>\n",
       "      <td>resnet-18</td>\n",
       "      <td>[0.0, 0.0, 27.814382553100586, 0.0, 27.8143825...</td>\n",
       "      <td>Traceback (most recent call last):\\n  [bt] (3)...</td>\n",
       "    </tr>\n",
       "    <tr>\n",
       "      <th>3</th>\n",
       "      <td>topi_x86_conv2d_NCHWc</td>\n",
       "      <td>tile_ic-tile_oc-tile_ow-unroll_kw</td>\n",
       "      <td>(64, 3, 7, 7)</td>\n",
       "      <td>(2, 2)</td>\n",
       "      <td>(3, 3, 3, 3)</td>\n",
       "      <td>34</td>\n",
       "      <td>llvm -mcpu=core-avx2</td>\n",
       "      <td>resnet-18</td>\n",
       "      <td>[0.0, 0.0, 0.0, 1.0, 0.0, 2.0, 0.0, 0.0, 0.0, ...</td>\n",
       "      <td>Traceback (most recent call last):\\n  [bt] (3)...</td>\n",
       "    </tr>\n",
       "    <tr>\n",
       "      <th>4</th>\n",
       "      <td>topi_x86_conv2d_NCHWc</td>\n",
       "      <td>tile_ic-tile_oc-tile_ow-unroll_kw</td>\n",
       "      <td>(64, 3, 7, 7)</td>\n",
       "      <td>(2, 2)</td>\n",
       "      <td>(3, 3, 3, 3)</td>\n",
       "      <td>43</td>\n",
       "      <td>llvm -mcpu=core-avx2</td>\n",
       "      <td>resnet-18</td>\n",
       "      <td>[0.0, 0.0, 0.0, 1.0, 0.0, 2.0, 26.007026672363...</td>\n",
       "      <td>Traceback (most recent call last):\\n  [bt] (3)...</td>\n",
       "    </tr>\n",
       "    <tr>\n",
       "      <th>...</th>\n",
       "      <td>...</td>\n",
       "      <td>...</td>\n",
       "      <td>...</td>\n",
       "      <td>...</td>\n",
       "      <td>...</td>\n",
       "      <td>...</td>\n",
       "      <td>...</td>\n",
       "      <td>...</td>\n",
       "      <td>...</td>\n",
       "      <td>...</td>\n",
       "    </tr>\n",
       "    <tr>\n",
       "      <th>595</th>\n",
       "      <td>topi_nn_conv2d</td>\n",
       "      <td>tile_f-tile_y-tile_x-tile_rc-tile_ry-tile_rx-a...</td>\n",
       "      <td>(512, 512, 3, 3)</td>\n",
       "      <td>(1, 1)</td>\n",
       "      <td>(1, 1, 1, 1)</td>\n",
       "      <td>226910</td>\n",
       "      <td>cuda -model=unknown</td>\n",
       "      <td>resnet-18</td>\n",
       "      <td>[0.0, 0.0, 0.0, 1.0, 0.0, 2.0, 0.0, 0.19264507...</td>\n",
       "      <td>0.0209023</td>\n",
       "    </tr>\n",
       "    <tr>\n",
       "      <th>596</th>\n",
       "      <td>topi_nn_conv2d</td>\n",
       "      <td>tile_f-tile_y-tile_x-tile_rc-tile_ry-tile_rx-a...</td>\n",
       "      <td>(512, 512, 3, 3)</td>\n",
       "      <td>(1, 1)</td>\n",
       "      <td>(1, 1, 1, 1)</td>\n",
       "      <td>249525</td>\n",
       "      <td>cuda -model=unknown</td>\n",
       "      <td>resnet-18</td>\n",
       "      <td>[0.0, 0.0, 0.0, 1.0, 0.0, 2.0, 25.977279663085...</td>\n",
       "      <td>0.0209696</td>\n",
       "    </tr>\n",
       "    <tr>\n",
       "      <th>597</th>\n",
       "      <td>topi_nn_conv2d</td>\n",
       "      <td>tile_f-tile_y-tile_x-tile_rc-tile_ry-tile_rx-a...</td>\n",
       "      <td>(512, 512, 3, 3)</td>\n",
       "      <td>(1, 1)</td>\n",
       "      <td>(1, 1, 1, 1)</td>\n",
       "      <td>195140</td>\n",
       "      <td>cuda -model=unknown</td>\n",
       "      <td>resnet-18</td>\n",
       "      <td>[0.0, 0.0, 0.0, 1.0, 0.0, 2.0, 25.977279663085...</td>\n",
       "      <td>0.0209323</td>\n",
       "    </tr>\n",
       "    <tr>\n",
       "      <th>598</th>\n",
       "      <td>topi_nn_conv2d</td>\n",
       "      <td>tile_f-tile_y-tile_x-tile_rc-tile_ry-tile_rx-a...</td>\n",
       "      <td>(512, 512, 3, 3)</td>\n",
       "      <td>(1, 1)</td>\n",
       "      <td>(1, 1, 1, 1)</td>\n",
       "      <td>138559</td>\n",
       "      <td>cuda -model=unknown</td>\n",
       "      <td>resnet-18</td>\n",
       "      <td>[0.0, 0.0, 0.0, 1.0, 0.0, 2.0, 0.0, 3.0, 24.78...</td>\n",
       "      <td>0.0209375</td>\n",
       "    </tr>\n",
       "    <tr>\n",
       "      <th>599</th>\n",
       "      <td>topi_nn_conv2d</td>\n",
       "      <td>tile_f-tile_y-tile_x-tile_rc-tile_ry-tile_rx-a...</td>\n",
       "      <td>(512, 512, 3, 3)</td>\n",
       "      <td>(1, 1)</td>\n",
       "      <td>(1, 1, 1, 1)</td>\n",
       "      <td>348953</td>\n",
       "      <td>cuda -model=unknown</td>\n",
       "      <td>resnet-18</td>\n",
       "      <td>[28.784635543823242, 0.0, 28.784635543823242, ...</td>\n",
       "      <td>0.0209183</td>\n",
       "    </tr>\n",
       "  </tbody>\n",
       "</table>\n",
       "<p>600 rows × 10 columns</p>\n",
       "</div>"
      ],
      "text/plain": [
       "                     names                                              knobs  \\\n",
       "0    topi_x86_conv2d_NCHWc                  tile_ic-tile_oc-tile_ow-unroll_kw   \n",
       "1    topi_x86_conv2d_NCHWc                  tile_ic-tile_oc-tile_ow-unroll_kw   \n",
       "2    topi_x86_conv2d_NCHWc                  tile_ic-tile_oc-tile_ow-unroll_kw   \n",
       "3    topi_x86_conv2d_NCHWc                  tile_ic-tile_oc-tile_ow-unroll_kw   \n",
       "4    topi_x86_conv2d_NCHWc                  tile_ic-tile_oc-tile_ow-unroll_kw   \n",
       "..                     ...                                                ...   \n",
       "595         topi_nn_conv2d  tile_f-tile_y-tile_x-tile_rc-tile_ry-tile_rx-a...   \n",
       "596         topi_nn_conv2d  tile_f-tile_y-tile_x-tile_rc-tile_ry-tile_rx-a...   \n",
       "597         topi_nn_conv2d  tile_f-tile_y-tile_x-tile_rc-tile_ry-tile_rx-a...   \n",
       "598         topi_nn_conv2d  tile_f-tile_y-tile_x-tile_rc-tile_ry-tile_rx-a...   \n",
       "599         topi_nn_conv2d  tile_f-tile_y-tile_x-tile_rc-tile_ry-tile_rx-a...   \n",
       "\n",
       "              weights strides      paddings  indexs               targets  \\\n",
       "0       (64, 3, 7, 7)  (2, 2)  (3, 3, 3, 3)     217  llvm -mcpu=core-avx2   \n",
       "1       (64, 3, 7, 7)  (2, 2)  (3, 3, 3, 3)     238  llvm -mcpu=core-avx2   \n",
       "2       (64, 3, 7, 7)  (2, 2)  (3, 3, 3, 3)      14  llvm -mcpu=core-avx2   \n",
       "3       (64, 3, 7, 7)  (2, 2)  (3, 3, 3, 3)      34  llvm -mcpu=core-avx2   \n",
       "4       (64, 3, 7, 7)  (2, 2)  (3, 3, 3, 3)      43  llvm -mcpu=core-avx2   \n",
       "..                ...     ...           ...     ...                   ...   \n",
       "595  (512, 512, 3, 3)  (1, 1)  (1, 1, 1, 1)  226910   cuda -model=unknown   \n",
       "596  (512, 512, 3, 3)  (1, 1)  (1, 1, 1, 1)  249525   cuda -model=unknown   \n",
       "597  (512, 512, 3, 3)  (1, 1)  (1, 1, 1, 1)  195140   cuda -model=unknown   \n",
       "598  (512, 512, 3, 3)  (1, 1)  (1, 1, 1, 1)  138559   cuda -model=unknown   \n",
       "599  (512, 512, 3, 3)  (1, 1)  (1, 1, 1, 1)  348953   cuda -model=unknown   \n",
       "\n",
       "      networks                                            vectors  \\\n",
       "0    resnet-18  [0.0, 0.0, 0.0, 1.0, 0.0, 2.0, 0.0, 0.0, 0.0, ...   \n",
       "1    resnet-18  [0.0, 0.0, 0.0, 1.0, 0.0, 2.0, 0.0, 3.0, 0.0, ...   \n",
       "2    resnet-18  [0.0, 0.0, 27.814382553100586, 0.0, 27.8143825...   \n",
       "3    resnet-18  [0.0, 0.0, 0.0, 1.0, 0.0, 2.0, 0.0, 0.0, 0.0, ...   \n",
       "4    resnet-18  [0.0, 0.0, 0.0, 1.0, 0.0, 2.0, 26.007026672363...   \n",
       "..         ...                                                ...   \n",
       "595  resnet-18  [0.0, 0.0, 0.0, 1.0, 0.0, 2.0, 0.0, 0.19264507...   \n",
       "596  resnet-18  [0.0, 0.0, 0.0, 1.0, 0.0, 2.0, 25.977279663085...   \n",
       "597  resnet-18  [0.0, 0.0, 0.0, 1.0, 0.0, 2.0, 25.977279663085...   \n",
       "598  resnet-18  [0.0, 0.0, 0.0, 1.0, 0.0, 2.0, 0.0, 3.0, 24.78...   \n",
       "599  resnet-18  [28.784635543823242, 0.0, 28.784635543823242, ...   \n",
       "\n",
       "                                                  cost  \n",
       "0    Traceback (most recent call last):\\n  [bt] (3)...  \n",
       "1    Traceback (most recent call last):\\n  [bt] (3)...  \n",
       "2    Traceback (most recent call last):\\n  [bt] (3)...  \n",
       "3    Traceback (most recent call last):\\n  [bt] (3)...  \n",
       "4    Traceback (most recent call last):\\n  [bt] (3)...  \n",
       "..                                                 ...  \n",
       "595                                          0.0209023  \n",
       "596                                          0.0209696  \n",
       "597                                          0.0209323  \n",
       "598                                          0.0209375  \n",
       "599                                          0.0209183  \n",
       "\n",
       "[600 rows x 10 columns]"
      ]
     },
     "execution_count": 2,
     "metadata": {},
     "output_type": "execute_result"
    }
   ],
   "source": [
    "df"
   ]
  },
  {
   "cell_type": "code",
   "execution_count": null,
   "metadata": {},
   "outputs": [],
   "source": []
  }
 ],
 "metadata": {
  "kernelspec": {
   "display_name": "Python 3.6.9 64-bit ('env': venv)",
   "language": "python",
   "name": "python36964bitenvvenv51dcf86f507841eb871a877d8ca7af51"
  },
  "language_info": {
   "codemirror_mode": {
    "name": "ipython",
    "version": 3
   },
   "file_extension": ".py",
   "mimetype": "text/x-python",
   "name": "python",
   "nbconvert_exporter": "python",
   "pygments_lexer": "ipython3",
   "version": "3.6.9"
  }
 },
 "nbformat": 4,
 "nbformat_minor": 4
}
