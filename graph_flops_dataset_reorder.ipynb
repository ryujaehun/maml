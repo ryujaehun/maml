{
 "cells": [
  {
   "cell_type": "code",
   "execution_count": 1,
   "metadata": {},
   "outputs": [],
   "source": [
    "import numpy as np\n",
    "import os\n",
    "import glob"
   ]
  },
  {
   "cell_type": "code",
   "execution_count": 2,
   "metadata": {},
   "outputs": [],
   "source": [
    "tasks = ('conv1d', 'conv2d','conv1d_transpose',  'conv2d_transpose')\n",
    "for task in tasks:\n",
    "    batch_1_path=os.path.join('GCN',task,'batch_1.npy')\n",
    "    flops_path=os.path.join('GCN',task,'label.npy')\n",
    "    batch_1=np.load(batch_1_path).squeeze()\n",
    "    flops=np.load(flops_path).squeeze()[:,1:]\n",
    "    order=np.argsort(flops,axis=0)\n",
    "    new_flops=flops[order]\n",
    "    new_batch_1=batch_1[order]\n",
    "    np.save(os.path.join('GCN',task,'new_batch_1.npy'),new_batch_1)\n",
    "    np.save(os.path.join('GCN',task,'new_label.npy'),new_flops)\n",
    "    \n",
    "    "
   ]
  },
  {
   "cell_type": "code",
   "execution_count": null,
   "metadata": {},
   "outputs": [],
   "source": []
  }
 ],
 "metadata": {
  "kernelspec": {
   "display_name": "Python 3",
   "language": "python",
   "name": "python3"
  },
  "language_info": {
   "codemirror_mode": {
    "name": "ipython",
    "version": 3
   },
   "file_extension": ".py",
   "mimetype": "text/x-python",
   "name": "python",
   "nbconvert_exporter": "python",
   "pygments_lexer": "ipython3",
   "version": "3.6.9"
  }
 },
 "nbformat": 4,
 "nbformat_minor": 4
}
